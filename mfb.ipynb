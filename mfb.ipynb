{
 "cells": [
  {
   "cell_type": "code",
   "execution_count": 4,
   "metadata": {},
   "outputs": [],
   "source": [
    "#!/usr/bin/env python\n",
    "from scipy import arange\n",
    "from numpy import *\n",
    "import time\n",
    "from matplotlib.pyplot import *\n",
    "from modelEquations import *\n",
    "from MFBfunctions import *\n",
    "from parameters import *"
   ]
  },
  {
   "cell_type": "code",
   "execution_count": 5,
   "metadata": {},
   "outputs": [
    {
     "name": "stdout",
     "output_type": "stream",
     "text": [
      "Setting up system...\n",
      "checking geometry...\n",
      "Go ahead! All good with the geometry\n",
      "Number of compartments: 1\n"
     ]
    },
    {
     "data": {
      "image/png": "[encoded data removed]",
      "text/plain": [
       "<Figure size 432x288 with 1 Axes>"
      ]
     },
     "metadata": {},
     "output_type": "display_data"
    },
    {
     "data": {
      "text/plain": [
       "\"\\nc0 = '0-0-0'\\ncModels[0] = mfb({'Ca':[], 'PMCA': [], 'calbindin': []},\\n                 name = c0,\\n                 dim = cmpts[c0],\\n                 nbrs = getNeighbours({c0: cmpts[c0]}, cmpts))\\n\""
      ]
     },
     "execution_count": 5,
     "metadata": {},
     "output_type": "execute_result"
    }
   ],
   "source": [
    "### Command line arguments\n",
    "cmdArg = {\n",
    "    'tcp'  : 50e-3,\n",
    "    'geo'  : 0,\n",
    "    'save' : 1,\n",
    "    'tf'   : 100e-3,\n",
    "    'tstep': 1e-3,\n",
    "    'fig'  : 1,\n",
    "    'rtol' : 1e-4,\n",
    "    'atol' : 1e-10,\n",
    "    'simName': 'trial/'\n",
    "}\n",
    "\n",
    "print \"Setting up system...\"\n",
    "simName = 'trial/'\n",
    "\n",
    "### Geometrical arrangement of all the compartments\n",
    "### a:n   = a, a+1, a+2,...,n-1\n",
    "### a:n:i = a, a+i, a+2*i,..., until (n-1)\n",
    "modelInput = '''[0:2:2, 0:20:4, 0:2:3]\n",
    "                [38:40:2, 0:20:4, 0:2:3]\n",
    "                [0:40:5, 0:20:5, 7:10:3]\n",
    "                [0:40:4, 0:20:5, 5:7:2]\n",
    "                [0:40:2, 0:20:4, 3:5:2]\n",
    "                [2:38:2, 0:20:2, 2:3]\n",
    "                [2:38, 0:20, 0:2]\n",
    "                '''\n",
    "\n",
    "modelInput = \"[0:1,0:1,0:1]\"\n",
    "#modelInput = \"[0:2,0:1,0:1]\"\n",
    "\n",
    "### MFB bounding box\n",
    "#bb = [40, 20, 10]\n",
    "bb = [1]*3 #+ [1]*2\n",
    "boundingBox = \"[0:\" + str(bb[0]) + \",0:\" + str(bb[1]) + \",0:\" + str(bb[2]) + \"]\"\n",
    "\n",
    "### Get all the compartments as\n",
    "### {'i-j-k': [i,j,k,lenth,width,height]}\n",
    "cmpts = compartments(modelInput)\n",
    "#for k in sorted(cmpts.iterkeys()): print \"%s: %s\" % (k, cmpts[k])\n",
    "\n",
    "### Check if no compartment have overlapping volumes and\n",
    "### there are no gaps in the model\n",
    "print \"checking geometry...\"\n",
    "if checkGeometry(boundingBox, cmpts):\n",
    "    print 'Go ahead! All good with the geometry'\n",
    "    print 'Number of compartments:', len(cmpts)\n",
    "    plotCompartments(cmpts, bb)\n",
    "\n",
    "### List of model objects for each compartment\n",
    "cModels = []\n",
    "for cname, cdim in [[k, cmpts[k]] for k in sorted(cmpts.iterkeys())]: # sorted by name\n",
    "    cModels.append(mfb({'Ca':[10e-7], 'PMCA': []},# 'PMCA': [], 'calbindin': []},\n",
    "                  name = cname,\n",
    "                  dim = cdim,\n",
    "                  nbrs = getNeighbours({cname: cdim}, cmpts))\n",
    "                 )\n",
    "'''\n",
    "c0 = '0-0-0'\n",
    "cModels[0] = mfb({'Ca':[], 'PMCA': [], 'calbindin': []},\n",
    "                 name = c0,\n",
    "                 dim = cmpts[c0],\n",
    "                 nbrs = getNeighbours({c0: cmpts[c0]}, cmpts))\n",
    "'''"
   ]
  },
  {
   "cell_type": "code",
   "execution_count": 3,
   "metadata": {},
   "outputs": [
    {
     "name": "stdout",
     "output_type": "stream",
     "text": [
      "Total number of equations: 4\n",
      "solving the ODE...\n",
      "t = 0\n",
      "t = 0.01\n",
      "t = 0.02\n",
      "t = 0.03\n",
      "t = 0.04\n",
      "Time taken for saving: 0.00208592414856\n",
      "t = 0.05\n",
      "t = 0.06\n",
      "t = 0.07\n",
      "t = 0.08\n",
      "t = 0.09\n",
      "t = 0.1\n",
      "Time taken for saving: 0.00148391723633\n"
     ]
    }
   ],
   "source": [
    "result.solve(cModels, cmdArg=cmdArg, flux=1e4)"
   ]
  },
  {
   "cell_type": "code",
   "execution_count": 4,
   "metadata": {},
   "outputs": [
    {
     "data": {
      "image/png": "[encoded data removed]",
      "text/plain": [
       "<Figure size 432x288 with 1 Axes>"
      ]
     },
     "metadata": {},
     "output_type": "display_data"
    }
   ],
   "source": [
    "### Plot some results\n",
    "if cmdArg['fig']:\n",
    "    fig, ax = subplots()\n",
    "    for cname, c in result.data.items():\n",
    "        for vname, v in result.data[cname].items():\n",
    "            if vname == 'Ca':\n",
    "                plot(result.t*1e3, v, lw=1, label=vname)\n",
    "    legend()\n",
    "    show()#'''"
   ]
  }
 ],
 "metadata": {
  "kernelspec": {
   "display_name": "Python 2",
   "language": "python",
   "name": "python2"
  },
  "language_info": {
   "codemirror_mode": {
    "name": "ipython",
    "version": 2
   },
   "file_extension": ".py",
   "mimetype": "text/x-python",
   "name": "python",
   "nbconvert_exporter": "python",
   "pygments_lexer": "ipython2",
   "version": "2.7.15rc1"
  }
 },
 "nbformat": 4,
 "nbformat_minor": 2
}
