{
 "cells": [
  {
   "cell_type": "code",
   "execution_count": 35,
   "metadata": {},
   "outputs": [],
   "source": [
    "# -*- coding: latin-1 -*-\n",
    "\n",
    "#!/usr/bin/env python\n",
    "from scipy import arange\n",
    "from numpy import *\n",
    "import time\n",
    "import os\n",
    "from matplotlib.pyplot import *\n",
    "from scipy.integrate import *\n",
    "\n",
    "from modelEquations import *\n",
    "from MFBfunctions import *\n",
    "from parameters import *"
   ]
  },
  {
   "cell_type": "markdown",
   "metadata": {},
   "source": [
    "### Set up the model parameters"
   ]
  },
  {
   "cell_type": "code",
   "execution_count": 36,
   "metadata": {},
   "outputs": [],
   "source": [
    "### Command line arguments\n",
    "cmdArg = {\n",
    "    'tcp'  : 50e-3,\n",
    "    'tf'   : 100e-3,\n",
    "    'tstep': 1e-3,\n",
    "    'save' : 1,\n",
    "}\n",
    "\n",
    "simName = 'trial/'\n",
    "### Simulation time\n",
    "ti, tf = 0.0, cmdArg['tf']\n",
    "tstep = cmdArg['tstep']\n",
    "tcp = cmdArg['tcp']\n",
    "\n",
    "### Geometrical arrangement of all the compartments\n",
    "### a:n   = a, a+1, a+2,...,n-1\n",
    "### a:n:i = a, a+i, a+2*i,..., until (n-1)\n",
    "modelInput = '''[0:2:2, 0:20:4, 0:2:3]\n",
    "                [38:40:2, 0:20:4, 0:2:3]\n",
    "                [0:40:5, 0:20:5, 7:10:3]\n",
    "                [0:40:4, 0:20:5, 5:7:2]\n",
    "                [0:40:2, 0:20:4, 3:5:2]\n",
    "                [2:38:2, 0:20:2, 2:3]\n",
    "                [2:38, 0:20, 0:2]\n",
    "                '''\n",
    "\n",
    "modelInput = \"[0:1,0:1,0:1]\"\n",
    "#modelInput = \"[0:2,0:1,0:1]\"\n",
    "\n",
    "### MFB bounding box\n",
    "#bb = [40, 20, 10]\n",
    "bb = [1]*3 #+ [1]*2\n",
    "boundingBox = \"[0:\" + str(bb[0]) + \",0:\" + str(bb[1]) + \",0:\" + str(bb[2]) + \"]\"\n",
    "\n",
    "### Get all the compartments as\n",
    "### {'i-j-k': [i,j,k,lenth,width,height]}\n",
    "cmpts = compartments(modelInput)\n",
    "#for k in sorted(cmpts.iterkeys()): print \"%s: %s\" % (k, cmpts[k])\n",
    "\n",
    "### List of model objects for each compartment\n",
    "cModels = []\n",
    "for cname, cdim in [[k, cmpts[k]] for k in sorted(cmpts.iterkeys())]: # sorted by name\n",
    "    cModels.append(mfb({'Ca':[10e-7], 'PMCA': []},# 'PMCA': [], 'calbindin': []},\n",
    "                  name = cname,\n",
    "                  dim = cdim,\n",
    "                  nbrs = getNeighbours({cname: cdim}, cmpts))\n",
    "                 )\n",
    "'''\n",
    "c0 = '0-0-0'\n",
    "cModels[0] = mfb({'Ca':[], 'PMCA': [], 'calbindin': []},\n",
    "                 name = c0,\n",
    "                 dim = cmpts[c0],\n",
    "                 nbrs = getNeighbours({c0: cmpts[c0]}, cmpts))\n",
    "'''\n",
    "\n",
    "### Make a list of initial index of each compartment\n",
    "cmpi = initialIndex(cModels)"
   ]
  },
  {
   "cell_type": "code",
   "execution_count": 37,
   "metadata": {},
   "outputs": [
    {
     "name": "stdout",
     "output_type": "stream",
     "text": [
      "0-0-0 [0, 0, 0, 1, 1, 1] [] 0\n"
     ]
    }
   ],
   "source": [
    "### print model details\n",
    "for cm in cModels:\n",
    "    print cm.name, cm.dim, cm.nbrs, cmpi[cm.name]\n",
    "    for n in cm.nbrs:\n",
    "        print cmpi[n]"
   ]
  },
  {
   "cell_type": "code",
   "execution_count": 38,
   "metadata": {},
   "outputs": [
    {
     "name": "stdout",
     "output_type": "stream",
     "text": [
      "Go ahead! All good with the geometry\n"
     ]
    },
    {
     "data": {
      "image/png": "[encoded data removed]",
      "text/plain": [
       "<matplotlib.figure.Figure at 0x7f2d02d0f390>"
      ]
     },
     "metadata": {},
     "output_type": "display_data"
    },
    {
     "name": "stdout",
     "output_type": "stream",
     "text": [
      "Number of compartments: 1\n"
     ]
    }
   ],
   "source": [
    "### Check if no compartments have overlapping volumes\n",
    "### and there are no gaps in the geometry\n",
    "if checkGeometry(boundingBox, cmpts):\n",
    "    print 'Go ahead! All good with the geometry'\n",
    "    plotCompartments(cmpts, bb)\n",
    "    print 'Number of compartments:', len(cmpts)"
   ]
  },
  {
   "cell_type": "code",
   "execution_count": 39,
   "metadata": {},
   "outputs": [],
   "source": [
    "tt=0.0\n",
    "flux = 1e4\n",
    "### Putting all compartments together\n",
    "def dXdt(t, X):\n",
    "    global tt\n",
    "    if t>tt:\n",
    "        print 't =', tt\n",
    "        tt += tcp/10\n",
    "\n",
    "\n",
    "    dX = []\n",
    "    j=0\n",
    "    for cm in cModels:\n",
    "        # All compartments have V value of (0,0,0)th compartment\n",
    "        #cm.V = cModels[0].V\n",
    "\n",
    "        ## Collect dX values from each compartment\n",
    "        dX += cm.dXdt(X[j:j+cm.nVar], t)\n",
    "\n",
    "        # Calcium Flux\n",
    "        caFlux = 0\n",
    "        for nbr in cm.nbrs:\n",
    "            caFlux += flux*(X[cmpi[nbr]] - X[j]) #ADΔ(Ca)/Δx\n",
    "        dX[j] += caFlux\n",
    "\n",
    "        j += cm.nVar # increment counter to 1st element of next compartment\n",
    "\n",
    "    return dX\n"
   ]
  },
  {
   "cell_type": "code",
   "execution_count": 40,
   "metadata": {},
   "outputs": [
    {
     "name": "stdout",
     "output_type": "stream",
     "text": [
      "Total number of equations: 4\n",
      "solving the ODE...\n",
      "[0.   0.05] 0.0\n",
      "[[0.0, 0.05], [0.05, 0.1]]\n",
      "t = 0.0\n",
      "t = 0.005\n",
      "t = 0.01\n",
      "t = 0.015\n"
     ]
    },
    {
     "name": "stderr",
     "output_type": "stream",
     "text": [
      "/usr/local/lib/python2.7/dist-packages/ipykernel_launcher.py:23: DeprecationWarning: object of type <type 'float'> cannot be safely interpreted as an integer.\n"
     ]
    },
    {
     "name": "stdout",
     "output_type": "stream",
     "text": [
      "t = 0.02\n",
      "t = 0.025\n",
      "t = 0.03\n",
      "t = 0.035\n",
      "t = 0.04\n",
      "t = 0.045\n",
      "t = 0.05\n",
      "Time taken for saving: 0.00126600265503\n",
      "t = 0.055\n",
      "t = 0.06\n",
      "t = 0.065\n",
      "t = 0.07\n",
      "t = 0.075\n",
      "t = 0.08\n",
      "t = 0.085\n",
      "t = 0.09\n",
      "t = 0.095\n",
      "Time taken for saving: 0.00151085853577\n",
      "\n",
      "DONE! | Time elapsed:  1.02245402336\n"
     ]
    }
   ],
   "source": [
    "### initial values\n",
    "X0 = []\n",
    "for cm in cModels:\n",
    "    X0 += cm.X0\n",
    "#print 'X0:', X0,\n",
    "print 'Total number of equations:', len(X0)\n",
    "\n",
    "### Solve ODE\n",
    "timei = time.time()\n",
    "print \"solving the ODE...\"\n",
    "\n",
    "tinterval = []\n",
    "aa = arange(ti, tf, tcp)\n",
    "for i in range(len(aa[:-1])):\n",
    "    tinterval += [[aa[i], aa[i+1]]]\n",
    "tinterval += [[aa[-1], tf]]\n",
    "\n",
    "#set_printoptions(precision=4)\n",
    "temp =  1\n",
    "for ti, tf in tinterval:\n",
    "    t_eval = linspace(ti, tf, round((tf - ti)/tstep) + 1)[:-1]\n",
    "\n",
    "    sol = solve_ivp(dXdt, [ti, tf], X0, t_eval=t_eval, rtol=1e-3, atol=1e-6)\n",
    "\n",
    "    ### Last values of sol as X0\n",
    "    X0 = sol.y.T[-1]\n",
    "\n",
    "    ### Adding sol to solution till previous checkpoint\n",
    "    if temp:\n",
    "        t = sol.t\n",
    "        y = sol.y\n",
    "        temp = 0\n",
    "    else:\n",
    "        t = concatenate((t, sol.t))\n",
    "        y = concatenate((y, sol.y), axis=1)\n",
    "\n",
    "    ### Saving data till current checkpoint in files\n",
    "    if cmdArg['save']:\n",
    "        tsavei = time.time()\n",
    "        for cm in cModels:\n",
    "            header = 't\\t\\t'\n",
    "            vname = sorted(result.data[cm.name].iteritems(), key=lambda (k,v): (v,k))\n",
    "            for vn in vname:\n",
    "                header += vn[0] + '\\t\\t'\n",
    "\n",
    "            v = concatenate(([t], y[cmpi[cm.name]:cmpi[cm.name]+cm.nVar])).T\n",
    "\n",
    "            dir = 'data/'+simName\n",
    "            if not os.path.exists(dir):\n",
    "                os.makedirs(dir)\n",
    "            savetxt(dir+cm.name+'.txt', v, header=header, fmt='%.4e', delimiter='\\t')\n",
    "\n",
    "        tsavef = time.time()\n",
    "        print 'Time taken for saving:', tsavef - tsavei\n",
    "\n",
    "timef = time.time()\n",
    "print '\\nDONE! | Time elapsed: ', timef-timei"
   ]
  },
  {
   "cell_type": "code",
   "execution_count": 41,
   "metadata": {},
   "outputs": [],
   "source": [
    "### Organise data in result.data dictionary\n",
    "for cname, idx in cmpi.items():\n",
    "    for vname, v in result.data[cname].items():\n",
    "        result.data[cname][vname] = y[idx+v]"
   ]
  },
  {
   "cell_type": "code",
   "execution_count": 42,
   "metadata": {},
   "outputs": [
    {
     "data": {
      "image/png": "[encoded data removed]",
      "text/plain": [
       "<matplotlib.figure.Figure at 0x7f2d6f0b7510>"
      ]
     },
     "metadata": {},
     "output_type": "display_data"
    }
   ],
   "source": [
    "### Plot some results\n",
    "fig, ax = subplots()\n",
    "for cname, c in result.data.items():\n",
    "    for vname, v in result.data[cname].items():\n",
    "        if vname == 'Ca':\n",
    "            figY = plot(t*1e3, v, lw=1, label=vname)\n",
    "\n",
    "legend()\n",
    "show()"
   ]
  },
  {
   "cell_type": "code",
   "execution_count": null,
   "metadata": {},
   "outputs": [],
   "source": []
  }
 ],
 "metadata": {
  "kernelspec": {
   "display_name": "Python 2",
   "language": "python",
   "name": "python2"
  },
  "language_info": {
   "codemirror_mode": {
    "name": "ipython",
    "version": 2
   },
   "file_extension": ".py",
   "mimetype": "text/x-python",
   "name": "python",
   "nbconvert_exporter": "python",
   "pygments_lexer": "ipython2",
   "version": "2.7.12"
  }
 },
 "nbformat": 4,
 "nbformat_minor": 2
}
