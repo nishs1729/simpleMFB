{
 "cells": [
  {
   "cell_type": "code",
   "execution_count": 1,
   "metadata": {},
   "outputs": [],
   "source": [
    "#matplotlib notebook\n",
    "from numpy import *\n",
    "from mpl_toolkits.mplot3d import Axes3D\n",
    "from mpl_toolkits.mplot3d.art3d import Poly3DCollection, Line3DCollection\n",
    "from matplotlib.pyplot import *"
   ]
  },
  {
   "cell_type": "code",
   "execution_count": 2,
   "metadata": {},
   "outputs": [
    {
     "name": "stdout",
     "output_type": "stream",
     "text": [
      "0-0-0: [0, 0, 0, 1, 1, 1]\n",
      "0-0-1: [0, 0, 1, 1, 1, 1]\n",
      "0-0-2: [0, 0, 2, 1, 1, 1]\n",
      "0-1-0: [0, 1, 0, 1, 1, 1]\n",
      "0-1-1: [0, 1, 1, 1, 1, 1]\n",
      "0-1-2: [0, 1, 2, 1, 1, 1]\n",
      "0-2-0: [0, 2, 0, 1, 1, 1]\n",
      "0-2-1: [0, 2, 1, 1, 1, 1]\n",
      "0-2-2: [0, 2, 2, 1, 1, 1]\n",
      "1-0-0: [1, 0, 0, 1, 1, 1]\n",
      "1-0-1: [1, 0, 1, 1, 1, 1]\n",
      "1-0-2: [1, 0, 2, 1, 1, 1]\n",
      "1-1-0: [1, 1, 0, 1, 1, 1]\n",
      "1-1-1: [1, 1, 1, 2, 2, 2]\n",
      "1-2-0: [1, 2, 0, 1, 1, 1]\n",
      "2-0-0: [2, 0, 0, 1, 1, 1]\n",
      "2-0-1: [2, 0, 1, 1, 1, 1]\n",
      "2-0-2: [2, 0, 2, 1, 1, 1]\n",
      "2-1-0: [2, 1, 0, 1, 1, 1]\n",
      "2-2-0: [2, 2, 0, 1, 1, 1]\n"
     ]
    }
   ],
   "source": [
    "### Model Input as Dictionary\n",
    "modelInput = '''[0:3,0,0:3]\n",
    "                [0:3,1:3,0]\n",
    "                [0,1:3,0:3]\n",
    "                [1:2:2,1:2:2,1:2:2]\n",
    "                '''\n",
    "#modelInput = '''[0:2, 0:2, 0:2]'''\n",
    "def compartments(modelInput):\n",
    "    modelInput = [a.strip() for a in modelInput.strip().split(\"\\n\")]\n",
    "    cmpts = {}\n",
    "    for a in modelInput:\n",
    "        a = a.strip('[').strip(']').split(',')\n",
    "        #print 'a:', a\n",
    "\n",
    "        arr, temp = [], []\n",
    "        for i in a[:3]:\n",
    "            if ':' in i:\n",
    "                t = [int(a) for a in i.split(':')]\n",
    "                try:\n",
    "                    arr.append(range(t[0],t[1],t[2]))\n",
    "                    temp.append(t[2])\n",
    "                except IndexError:\n",
    "                    arr.append(range(t[0],t[1]))\n",
    "                    temp.append(1)\n",
    "            else:\n",
    "                arr.append([int(i)])\n",
    "                temp.append(1)\n",
    "\n",
    "        arr += temp\n",
    "        #print 'arr:', arr\n",
    "\n",
    "\n",
    "        for i in arr[0]:\n",
    "            for j in arr[1]:\n",
    "                for k in arr[2]:\n",
    "                    mName = str(i) + '-' + str(j) + '-' + str(k)\n",
    "                    mVal = [i,j,k] + arr[3:]\n",
    "                    cmpts.update({mName: mVal})\n",
    "    return cmpts\n",
    "\n",
    "\n",
    "cmpts = compartments(modelInput)\n",
    "for k in sorted(cmpts.iterkeys()):\n",
    "    print \"%s: %s\" % (k, cmpts[k])"
   ]
  },
  {
   "cell_type": "code",
   "execution_count": 3,
   "metadata": {},
   "outputs": [
    {
     "name": "stdout",
     "output_type": "stream",
     "text": [
      "True\n"
     ]
    }
   ],
   "source": [
    "def checkGeometry(comp, cmpts):\n",
    "    sCubes = compartments(comp)\n",
    "    #for k in sorted(sCubes.iterkeys()):\n",
    "    #    print \"%s: %s\" % (k, sCubes[k])\n",
    "        \n",
    "    #sCubes = {'2-2-2': [2, 2, 2, 1, 1, 1]}\n",
    "    gap = []\n",
    "    overlap = []\n",
    "    for sc in sCubes.values():\n",
    "        temp = []\n",
    "        i = 0\n",
    "        for c in cmpts.values():\n",
    "            if (sc[0]  >=c[0]      and sc[1]  >=c[1]      and sc[2]  >=c[2] and \\\n",
    "                sc[0]+1<=c[0]+c[3] and sc[1]+1<=c[1]+c[4] and sc[2]+1<=c[2]+c[5]):\n",
    "                i += 1\n",
    "                temp.append(c)\n",
    "                \n",
    "        if i>=2:\n",
    "            overlap.append([sc, temp])\n",
    "        if i==0:\n",
    "            gap.append(sc)\n",
    "    \n",
    "    if gap==[] and overlap==[]:\n",
    "        return True\n",
    "    else:\n",
    "        print 'gaps:', gap\n",
    "        print 'overlaps:', overlap\n",
    "        return False\n",
    "    \n",
    "sCubes = \"[0:3, 0:3, 0:3]\"\n",
    "print checkGeometry(sCubes, cmpts)"
   ]
  },
  {
   "cell_type": "code",
   "execution_count": 4,
   "metadata": {},
   "outputs": [
    {
     "name": "stdout",
     "output_type": "stream",
     "text": [
      "1\n"
     ]
    }
   ],
   "source": [
    "a = [0, 0, 0, 1, 1, 1]\n",
    "b = [0, 1, 0, 1, 1, 1]\n",
    "\n",
    "def isNeighbour(a,b):\n",
    "    nbr = (a[0] <= b[0]+b[3] and a[0]+a[3] >= b[0]) and \\\n",
    "          (a[1] <= b[1]+b[4] and a[1]+a[4] >= b[1]) and \\\n",
    "          (a[2] <= b[2]+b[5] and a[2]+a[5] >= b[2])\n",
    "    \n",
    "    \n",
    "    if nbr:\n",
    "        if a[0] == b[0]+b[3] or a[0]+a[3] == b[0]:\n",
    "            dy = min(abs(a[1]+a[4] - b[1]), abs(b[1]+b[4] - a[1]))\n",
    "            dz = min(abs(a[2]+a[5] - b[2]), abs(b[2]+b[5] - a[2]))\n",
    "            \n",
    "            if dy*dz==0:\n",
    "                return False\n",
    "            else:\n",
    "                #print a, b, '\\n', 'dy, dz =', dy, dz\n",
    "                return dy*dz\n",
    "        \n",
    "        elif a[1] == b[1]+b[4] or a[1]+a[4] == b[1]:\n",
    "            dx = min(abs(a[0]+a[3] - b[0]), abs(b[0]+b[3] - a[0]))\n",
    "            dz = min(abs(a[2]+a[5] - b[2]), abs(b[2]+b[5] - a[2]))\n",
    "            \n",
    "            if dx*dz==0:\n",
    "                return False\n",
    "            else:\n",
    "                #print a, b, '\\n', 'dx, dz =', dx, dz\n",
    "                return dx*dz\n",
    "        \n",
    "        elif a[2] == b[2]+b[5] or a[2]+a[5] == b[2]:\n",
    "            dx = min(abs(a[0]+a[3] - b[0]), abs(b[0]+b[3] - a[0]))\n",
    "            dy = min(abs(a[1]+a[4] - b[1]), abs(b[1]+b[4] - a[1]))\n",
    "            \n",
    "            if dx*dy==0:\n",
    "                return False\n",
    "            else:\n",
    "                #print a, b, '\\n', 'dx, dy =', dx, dy\n",
    "                return dx*dy\n",
    "    \n",
    "    else:\n",
    "        return False\n",
    "\n",
    "print isNeighbour(b,a)"
   ]
  },
  {
   "cell_type": "code",
   "execution_count": 15,
   "metadata": {},
   "outputs": [
    {
     "name": "stdout",
     "output_type": "stream",
     "text": [
      "0-0-0: ['0-1-0', '1-0-0', '0-0-1']\n",
      "0-0-1: ['0-1-1', '1-0-1', '0-0-0', '0-0-2']\n",
      "0-0-2: ['0-1-2', '1-0-2', '0-0-1']\n",
      "0-1-0: ['0-1-1', '0-0-0', '1-1-0', '0-2-0']\n",
      "0-1-1: ['0-2-1', '0-1-2', '0-1-0', '1-1-1', '0-0-1']\n",
      "0-1-2: ['0-2-2', '0-1-1', '1-1-1', '0-0-2']\n",
      "0-2-0: ['0-2-1', '0-1-0', '1-2-0']\n",
      "0-2-1: ['0-2-2', '0-1-1', '1-1-1', '0-2-0']\n",
      "0-2-2: ['0-2-1', '0-1-2', '1-1-1']\n",
      "1-0-0: ['1-0-1', '0-0-0', '1-1-0', '2-0-0']\n",
      "1-0-1: ['1-0-0', '1-0-2', '1-1-1', '0-0-1', '2-0-1']\n",
      "1-0-2: ['1-0-1', '1-1-1', '0-0-2', '2-0-2']\n",
      "1-1-0: ['0-1-0', '1-2-0', '1-0-0', '1-1-1', '2-1-0']\n",
      "1-1-1: ['0-2-1', '0-1-2', '0-2-2', '0-1-1', '1-2-0', '1-0-1', '1-0-2', '1-1-0', '2-1-0', '2-2-0', '2-0-2', '2-0-1']\n",
      "1-2-0: ['1-1-1', '1-1-0', '0-2-0', '2-2-0']\n",
      "2-0-0: ['1-0-0', '2-1-0', '2-0-1']\n",
      "2-0-1: ['1-0-1', '1-1-1', '2-0-2', '2-0-0']\n",
      "2-0-2: ['1-0-2', '1-1-1', '2-0-1']\n",
      "2-1-0: ['1-1-1', '1-1-0', '2-2-0', '2-0-0']\n",
      "2-2-0: ['1-2-0', '1-1-1', '2-1-0']\n"
     ]
    }
   ],
   "source": [
    "def getNeighbours(c, cmpts):\n",
    "    k, v = c.items()[0]\n",
    "    nbrs = []\n",
    "    for nk,nv in cmpts.items():\n",
    "        if not k==nk:\n",
    "            area = isNeighbour(v, nv)\n",
    "            if area:\n",
    "                nbrs.append(nk)\n",
    "                \n",
    "    return nbrs\n",
    "                \n",
    "nbrhood = {}\n",
    "for k,v in cmpts.items():\n",
    "    nbrhood.update({k: getNeighbours({k: v}, cmpts)})\n",
    "    \n",
    "\n",
    "'''for k in sorted(cmpts.iterkeys()):\n",
    "    print \"%s: %s\" % (k, cmpts[k])'''\n",
    "    \n",
    "for k in sorted(nbrhood.iterkeys()):\n",
    "    print \"%s: %s\" % (k, nbrhood[k])\n",
    "a=0"
   ]
  },
  {
   "cell_type": "code",
   "execution_count": 6,
   "metadata": {},
   "outputs": [
    {
     "data": {
      "image/png": "[encoded data removed]",
      "text/plain": [
       "<matplotlib.figure.Figure at 0x7f5173170490>"
      ]
     },
     "metadata": {},
     "output_type": "display_data"
    }
   ],
   "source": [
    "def getVertices(c):\n",
    "    v = [c[:3]]\n",
    "    v.append([c[0]+c[3], c[1],      c[2]])\n",
    "    v.append([c[0]+c[3], c[1]+c[4], c[2]])\n",
    "    v.append([c[0],      c[1]+c[4], c[2]])\n",
    "    v.append([c[0],      c[1],      c[2]+c[5]])\n",
    "    v.append([c[0]+c[3], c[1],      c[2]+c[5]])\n",
    "    v.append([c[0]+c[3], c[1]+c[4], c[2]+c[5]])\n",
    "    v.append([c[0],      c[1]+c[4], c[2]+c[5]])\n",
    "    \n",
    "    # list of sides' polygons of figure\n",
    "    verts = [[v[0], v[1], v[2], v[3]],\n",
    "             [v[4], v[5], v[6], v[7]], \n",
    "             [v[0], v[1], v[5], v[4]], \n",
    "             [v[2], v[3], v[7], v[6]], \n",
    "             [v[1], v[2], v[6], v[5]],\n",
    "             [v[4], v[7], v[3], v[0]], \n",
    "             [v[2], v[3], v[7], v[6]]]\n",
    "    \n",
    "    return array(verts)\n",
    "\n",
    "fig = figure()\n",
    "ax = fig.add_subplot(111, projection='3d')\n",
    "\n",
    "# set x,y,z limits\n",
    "ax.set_xlim(0, 3)\n",
    "ax.set_ylim(0, 3)\n",
    "ax.set_zlim(0, 3)\n",
    "\n",
    "ax.axis('off')\n",
    "\n",
    "# plot sides\n",
    "for c in cmpts.values():\n",
    "    verts = getVertices(c)\n",
    "    ax.add_collection3d(Poly3DCollection(verts, \n",
    "                        facecolors='cyan', linewidths=0.5, \n",
    "                        edgecolors='g', alpha=.1))\n",
    "\n",
    "show()"
   ]
  }
 ],
 "metadata": {
  "kernelspec": {
   "display_name": "Python 2",
   "language": "python",
   "name": "python2"
  },
  "language_info": {
   "codemirror_mode": {
    "name": "ipython",
    "version": 2
   },
   "file_extension": ".py",
   "mimetype": "text/x-python",
   "name": "python",
   "nbconvert_exporter": "python",
   "pygments_lexer": "ipython2",
   "version": "2.7.12"
  }
 },
 "nbformat": 4,
 "nbformat_minor": 2
}
